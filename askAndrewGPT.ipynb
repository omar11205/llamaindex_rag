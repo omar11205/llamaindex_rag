{
 "cells": [
  {
   "cell_type": "code",
   "id": "initial_id",
   "metadata": {
    "collapsed": true,
    "ExecuteTime": {
     "end_time": "2024-04-11T16:11:45.666826Z",
     "start_time": "2024-04-11T16:11:45.664328Z"
    }
   },
   "source": [
    "import os\n",
    "import openai\n",
    "key = os.getenv('DEVELOPMENT_OPENAI')\n",
    "openai.api_key = key"
   ],
   "outputs": [],
   "execution_count": 3
  },
  {
   "metadata": {
    "ExecuteTime": {
     "end_time": "2024-04-11T16:11:51.076527Z",
     "start_time": "2024-04-11T16:11:48.659608Z"
    }
   },
   "cell_type": "code",
   "source": [
    "from llama_index.llms.openai import OpenAI\n",
    "llm = OpenAI(temperature=0, model=\"gpt-3.5-turbo\", max_tokens=100)\n",
    "response = llm.complete(\"Can you help me with a task?\")\n",
    "print(response)"
   ],
   "id": "cebf19c8dcbda455",
   "outputs": [
    {
     "name": "stdout",
     "output_type": "stream",
     "text": [
      "Of course! I'd be happy to help. What do you need assistance with?\n"
     ]
    }
   ],
   "execution_count": 4
  },
  {
   "metadata": {
    "ExecuteTime": {
     "end_time": "2024-04-11T16:11:59.390797Z",
     "start_time": "2024-04-11T16:11:59.386291Z"
    }
   },
   "cell_type": "code",
   "source": "print(response.raw)",
   "id": "28b218cd743c5803",
   "outputs": [
    {
     "name": "stdout",
     "output_type": "stream",
     "text": [
      "{'id': 'chatcmpl-9CrJgBbbz7n9RPr6Zs1m8ube3nD1o', 'choices': [Choice(finish_reason='stop', index=0, logprobs=None, message=ChatCompletionMessage(content=\"Of course! I'd be happy to help. What do you need assistance with?\", role='assistant', function_call=None, tool_calls=None))], 'created': 1712851912, 'model': 'gpt-3.5-turbo-0125', 'object': 'chat.completion', 'system_fingerprint': 'fp_b28b39ffa8', 'usage': CompletionUsage(completion_tokens=17, prompt_tokens=15, total_tokens=32)}\n"
     ]
    }
   ],
   "execution_count": 5
  }
 ],
 "metadata": {
  "kernelspec": {
   "display_name": "Python 3",
   "language": "python",
   "name": "python3"
  },
  "language_info": {
   "codemirror_mode": {
    "name": "ipython",
    "version": 2
   },
   "file_extension": ".py",
   "mimetype": "text/x-python",
   "name": "python",
   "nbconvert_exporter": "python",
   "pygments_lexer": "ipython2",
   "version": "2.7.6"
  }
 },
 "nbformat": 4,
 "nbformat_minor": 5
}
