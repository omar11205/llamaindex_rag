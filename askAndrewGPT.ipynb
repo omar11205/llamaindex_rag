{
 "cells": [
  {
   "cell_type": "code",
   "id": "initial_id",
   "metadata": {
    "collapsed": true,
    "ExecuteTime": {
     "end_time": "2024-04-11T14:14:01.655684Z",
     "start_time": "2024-04-11T14:14:01.238353Z"
    }
   },
   "source": [
    "import os\n",
    "import openai\n",
    "key = os.getenv('OPENAI_API_KEY')\n",
    "openai.api_key = key\n"
   ],
   "outputs": [],
   "execution_count": 2
  },
  {
   "metadata": {
    "ExecuteTime": {
     "end_time": "2024-04-11T14:14:44.067455Z",
     "start_time": "2024-04-11T14:14:42.750035Z"
    }
   },
   "cell_type": "code",
   "source": [
    "from llama_index.llms.openai import OpenAI\n",
    "llm = OpenAI(temperature=0, model=\"gpt-3.5-turbo\", max_tokens=100)\n",
    "response = llm.complete(\"Hello, how are you today?\")\n",
    "print(response)"
   ],
   "id": "cebf19c8dcbda455",
   "outputs": [
    {
     "name": "stdout",
     "output_type": "stream",
     "text": [
      "Hello! I'm just a computer program, so I don't have feelings, but I'm here and ready to assist you. How can I help you today?\n"
     ]
    }
   ],
   "execution_count": 4
  },
  {
   "metadata": {
    "ExecuteTime": {
     "end_time": "2024-04-11T14:17:30.344336Z",
     "start_time": "2024-04-11T14:17:30.340925Z"
    }
   },
   "cell_type": "code",
   "source": "print(response.raw)",
   "id": "28b218cd743c5803",
   "outputs": [
    {
     "name": "stdout",
     "output_type": "stream",
     "text": [
      "{'id': 'chatcmpl-9CpULk6YJfFqlZcqEHni3wqWM8D3Y', 'choices': [Choice(finish_reason='stop', index=0, logprobs=None, message=ChatCompletionMessage(content=\"Hello! I'm just a computer program, so I don't have feelings, but I'm here and ready to assist you. How can I help you today?\", role='assistant', function_call=None, tool_calls=None))], 'created': 1712844885, 'model': 'gpt-3.5-turbo-0125', 'object': 'chat.completion', 'system_fingerprint': 'fp_b28b39ffa8', 'usage': CompletionUsage(completion_tokens=33, prompt_tokens=14, total_tokens=47)}\n"
     ]
    }
   ],
   "execution_count": 5
  }
 ],
 "metadata": {
  "kernelspec": {
   "display_name": "Python 3",
   "language": "python",
   "name": "python3"
  },
  "language_info": {
   "codemirror_mode": {
    "name": "ipython",
    "version": 2
   },
   "file_extension": ".py",
   "mimetype": "text/x-python",
   "name": "python",
   "nbconvert_exporter": "python",
   "pygments_lexer": "ipython2",
   "version": "2.7.6"
  }
 },
 "nbformat": 4,
 "nbformat_minor": 5
}
