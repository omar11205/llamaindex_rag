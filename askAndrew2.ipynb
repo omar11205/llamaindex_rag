{
 "cells": [
  {
   "cell_type": "code",
   "execution_count": 1,
   "id": "initial_id",
   "metadata": {
    "collapsed": true,
    "ExecuteTime": {
     "end_time": "2024-04-10T19:19:24.683626Z",
     "start_time": "2024-04-10T19:19:21.255177Z"
    }
   },
   "outputs": [
    {
     "name": "stdout",
     "output_type": "stream",
     "text": [
      "```python\n",
      "a = 3\n",
      "b = 4\n",
      "c = 5\n",
      "n = 2\n",
      "\n",
      "result = fermat_last_theorem(a, b, c, n)\n",
      "\n",
      "if result:\n",
      "  print(\"Fermat's Last Theorem holds for the given input.\")\n",
      "else:\n",
      "  print(\"Fermat's Last Theorem does not hold for the given input.\")\n",
      "```\n",
      "\n",
      "Output:\n",
      "\n",
      "```\n",
      "Fermat's Last Theorem does not hold for the given input.\n",
      "```\n",
      "\n",
      "This is because 3^2 + 4^2 = 5^2, which violates Fermat's Last Theorem.\n"
     ]
    }
   ],
   "source": [
    "\"\"\"\n",
    "At the command line, only need to run once to install the package via pip:\n",
    "\n",
    "$ pip install google-generativeai\n",
    "\"\"\"\n",
    "\n",
    "import google.generativeai as genai\n",
    "import os\n",
    "\n",
    "genai.configure(api_key=os.environ['GOOGLEAI_API_KEY'])\n",
    "\n",
    "# Set up the model\n",
    "generation_config = {\n",
    "  \"temperature\": 0.9,\n",
    "  \"top_p\": 1,\n",
    "  \"top_k\": 1,\n",
    "  \"max_output_tokens\": 2048,\n",
    "}\n",
    "\n",
    "safety_settings = [\n",
    "  {\n",
    "    \"category\": \"HARM_CATEGORY_HARASSMENT\",\n",
    "    \"threshold\": \"BLOCK_MEDIUM_AND_ABOVE\"\n",
    "  },\n",
    "  {\n",
    "    \"category\": \"HARM_CATEGORY_HATE_SPEECH\",\n",
    "    \"threshold\": \"BLOCK_MEDIUM_AND_ABOVE\"\n",
    "  },\n",
    "  {\n",
    "    \"category\": \"HARM_CATEGORY_SEXUALLY_EXPLICIT\",\n",
    "    \"threshold\": \"BLOCK_MEDIUM_AND_ABOVE\"\n",
    "  },\n",
    "  {\n",
    "    \"category\": \"HARM_CATEGORY_DANGEROUS_CONTENT\",\n",
    "    \"threshold\": \"BLOCK_MEDIUM_AND_ABOVE\"\n",
    "  },\n",
    "]\n",
    "\n",
    "model = genai.GenerativeModel(model_name=\"gemini-1.0-pro\",\n",
    "                              generation_config=generation_config,\n",
    "                              safety_settings=safety_settings)\n",
    "\n",
    "convo = model.start_chat(history=[\n",
    "  {\n",
    "    \"role\": \"user\",\n",
    "    \"parts\": [\"give a code in python to demonstrate the use of the fermat last theorem\"]\n",
    "  },\n",
    "  {\n",
    "    \"role\": \"model\",\n",
    "    \"parts\": [\"```python\\ndef fermat_last_theorem(a, b, c, n):\\n  \\\"\\\"\\\"\\n  Checks if Fermat's Last Theorem holds for the given input.\\n\\n  Args:\\n    a: A positive integer.\\n    b: A positive integer.\\n    c: A positive integer.\\n    n: A positive integer greater than 2.\\n\\n  Returns:\\n    True if Fermat's Last Theorem holds for the given input, False otherwise.\\n  \\\"\\\"\\\"\\n\\n  # Check if a^n + b^n = c^n.\\n  if a**n + b**n == c**n:\\n    return False\\n\\n  # Otherwise, Fermat's Last Theorem holds for the given input.\\n  return True\\n\\n\\nif __name__ == \\\"__main__\\\":\\n  # Get the input from the user.\\n  a = int(input(\\\"Enter a: \\\"))\\n  b = int(input(\\\"Enter b: \\\"))\\n  c = int(input(\\\"Enter c: \\\"))\\n  n = int(input(\\\"Enter n: \\\"))\\n\\n  # Check if Fermat's Last Theorem holds for the given input.\\n  result = fermat_last_theorem(a, b, c, n)\\n\\n  # Print the result.\\n  if result:\\n    print(\\\"Fermat's Last Theorem holds for the given input.\\\")\\n  else:\\n    print(\\\"Fermat's Last Theorem does not hold for the given input.\\\")\\n```\"]\n",
    "  },\n",
    "])\n",
    "\n",
    "convo.send_message(\"YOUR_USER_INPUT\")\n",
    "print(convo.last.text)"
   ]
  }
 ],
 "metadata": {
  "kernelspec": {
   "display_name": "Python 3",
   "language": "python",
   "name": "python3"
  },
  "language_info": {
   "codemirror_mode": {
    "name": "ipython",
    "version": 2
   },
   "file_extension": ".py",
   "mimetype": "text/x-python",
   "name": "python",
   "nbconvert_exporter": "python",
   "pygments_lexer": "ipython2",
   "version": "2.7.6"
  }
 },
 "nbformat": 4,
 "nbformat_minor": 5
}
